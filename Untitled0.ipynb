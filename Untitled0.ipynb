{
  "nbformat": 4,
  "nbformat_minor": 0,
  "metadata": {
    "colab": {
      "provenance": []
    },
    "kernelspec": {
      "name": "python3",
      "display_name": "Python 3"
    },
    "language_info": {
      "name": "python"
    }
  },
  "cells": [
    {
      "cell_type": "markdown",
      "source": [
        "1 - What is Simple Linear Regression ?\n",
        "   \n",
        "  Simple Linear Regression is a statistical. This  method used to model the relationship between two variables by fitting a straight line through the data.It involves only one independent variable (predictor) and one dependent variable .\n",
        "  \n",
        "  Independent variable (X): The predictor or input variable.\n",
        "\n",
        " Dependent variable (Y): The outcome or output variable you're trying to predict.\n",
        "\n"
      ],
      "metadata": {
        "id": "c_qEzDZD9jAG"
      }
    },
    {
      "cell_type": "markdown",
      "source": [
        "2.  What are the key assumptions of Simple Linear Regression ?\n",
        "\n",
        "Simple Linear Regression are crucial to ensure the validity and reliability of the model.\n",
        "\n",
        "Assumption: There is a linear relationship between the independent variable (X) and the dependent variable (Y).\n",
        "\n",
        "Implication: The change in Y is proportional to the change in X."
      ],
      "metadata": {
        "id": "G98N6S-N-bFC"
      }
    },
    {
      "cell_type": "markdown",
      "source": [
        "3- What does the coefficient m represent in the equation Y=mX+c ?\n",
        "\n",
        "The coefficient m represents the slope of the line.\n",
        "The dependent variable Y changes for a one-unit increase in the independent variable X.\n",
        "\n",
        " m is the rate of change of Y with respect to X.\n",
        "\n",
        "\n"
      ],
      "metadata": {
        "id": "sBetcVrUAvz4"
      }
    },
    {
      "cell_type": "markdown",
      "source": [
        "4- What does the intercept c represent in the equation Y=mX+c ?\n",
        "\n",
        "The coefficient c represents the intercept . This is also called the constant or bias term.\n",
        "\n"
      ],
      "metadata": {
        "id": "lAgeizVOBv8F"
      }
    },
    {
      "cell_type": "markdown",
      "source": [
        "5- How do we calculate the slope m in Simple Linear Regression ?\n",
        "\n",
        "In Simple Linear Regression, the slope\n",
        "𝑚\n",
        "m  represents the change in the dependent variable\n",
        "𝑌\n",
        "Y for a one-unit change in the independent variable\n",
        "𝑋 .\n",
        "​\n",
        "\n",
        "\n",
        "\n",
        "\n"
      ],
      "metadata": {
        "id": "-p5FBnz8Chwe"
      }
    },
    {
      "cell_type": "markdown",
      "source": [
        "6- What is the purpose of the least squares method in Simple Linear Regression?\n",
        "\n",
        " The purpose of the Least Squares Method in Simple Linear Regression is to find the best-fitting straight line  through the data points by minimizing the sum of the squared differences between the observed values and the predicted values.\n",
        "\n",
        "\n"
      ],
      "metadata": {
        "id": "VDVB-PliaYuw"
      }
    },
    {
      "cell_type": "markdown",
      "source": [
        "7- How is the coefficient of determination (R²) interpreted in Simple Linear Regression?\n",
        "\n",
        " The coefficient of determination, denoted as\n",
        "𝑅\n",
        "2\n",
        "R\n",
        "2\n",
        " , measures how well the regression line explains the variability in the dependent variable\n",
        "𝑌\n",
        "Y.\n",
        " In simple linear regression,\n",
        "𝑅\n",
        "2\n",
        "R\n",
        "2\n",
        "  tells us the proportion of variance in the dependent variable that is explained by the independent variable using the regression model.\n",
        "\n"
      ],
      "metadata": {
        "id": "aZKW3siFas68"
      }
    },
    {
      "cell_type": "markdown",
      "source": [
        "8- What is Multiple Linear Regression?\n",
        "\n",
        "  Multiple Linear Regression is a statistical technique used to model the relationship between one dependent variable and two or more independent variables.\n",
        "\n",
        " General Equation of Multiple Linear Regression:\n",
        "\n",
        "𝑌\n",
        "=\n",
        "𝛽\n",
        "0\n",
        "+\n",
        "𝛽\n",
        "1\n",
        "𝑋\n",
        "1\n",
        "+\n",
        "𝛽\n",
        "2\n",
        "𝑋\n",
        "2\n",
        "+\n",
        "⋯\n",
        "+\n",
        "𝛽\n",
        "𝑛\n",
        "𝑋\n",
        "𝑛\n",
        "+\n",
        "𝜀\n",
        "Y=β\n",
        "0\n",
        "​\n",
        " +β\n",
        "1\n",
        "​\n",
        " X\n",
        "1\n",
        "​\n",
        " +β\n",
        "2\n",
        "​\n",
        " X\n",
        "2\n",
        "​\n",
        " +⋯+β\n",
        "n\n",
        "​\n",
        " X\n",
        "n\n",
        "​\n",
        " +ε\n",
        "\n"
      ],
      "metadata": {
        "id": "8jV39MnpbQ3F"
      }
    },
    {
      "cell_type": "markdown",
      "source": [
        "9- What is the main difference between Simple and Multiple Linear Regression?\n",
        "\n",
        " Simple Linear Regression\tMultiple Linear Regression\n",
        "Number of Independent Variables\tOne independent variable .\n",
        "\n",
        "Multiple Linear Regression\n",
        "Number of Independent Variables\tTwo or more independent variables\n",
        "Equation\n",
        "​\n",
        "𝑌\n",
        "=\n",
        "𝛽\n",
        "0\n",
        "+\n",
        "𝛽\n",
        "1\n",
        "𝑋\n",
        "1\n",
        "+\n",
        "𝛽\n",
        "2\n",
        "𝑋\n",
        "2\n",
        "+\n",
        "⋯\n",
        "+\n",
        "𝛽\n",
        "𝑛\n",
        "𝑋\n",
        "𝑛\n",
        "Y=β\n",
        "0\n",
        "​\n",
        " +β\n",
        "1\n",
        "​\n",
        " X\n",
        "1\n",
        "​\n",
        " +β\n",
        "2\n",
        "​\n",
        " X\n",
        "2\n",
        "​\n",
        " +⋯+β\n",
        "n\n",
        "​\n",
        " X\n",
        "n\n",
        "​\n",
        "\n"
      ],
      "metadata": {
        "id": "TnxYm6f3cI2x"
      }
    },
    {
      "cell_type": "markdown",
      "source": [
        "10- What are the key assumptions of Multiple Linear Regression ?\n",
        "\n",
        " The relationship between the dependent variable and each independent variable is linear.\n",
        "\n",
        "Violations: Model may underperform or produce biased estimates. The residuals  are independent of each other. Especially important in time series data\n"
      ],
      "metadata": {
        "id": "a6k8Q1hbeMtx"
      }
    },
    {
      "cell_type": "markdown",
      "source": [
        "11- What is heteroscedasticity, and how does it affect the results of a Multiple Linear Regression model?\n",
        "\n",
        " Heteroscedasticity occurs when the variance of the residuals in a regression model is not constant across all levels of the independent variables.\n",
        "\n",
        "In contrast, homoscedasticity means the residuals have equal variance, which is a key assumption in linear regression.\n"
      ],
      "metadata": {
        "id": "VcBc7lvBfv9A"
      }
    },
    {
      "cell_type": "markdown",
      "source": [
        "12- How can you improve a Multiple Linear Regression model with high multicollinearity ?\n",
        "\n",
        " Multicollinearity occurs when two or more independent variables are highly correlated with each other. This makes it difficult to determine the individual effect of each predictor on the dependent variable, and it inflates the standard errors of the coefficients.\n"
      ],
      "metadata": {
        "id": "ZOiQtJ3whrtX"
      }
    },
    {
      "cell_type": "markdown",
      "source": [
        "13- What are some common techniques for transforming categorical variables for use in regression models ?\n",
        "\n",
        " Categorical variables need to be converted into numerical form before being used in regression models, as regression algorithms can't work directly with non-numeric data. Like label encoding, but designed specifically for ordered categories .You can manually map the values based on business logic.\n"
      ],
      "metadata": {
        "id": "FEfb_7buiGVk"
      }
    },
    {
      "cell_type": "markdown",
      "source": [
        "14- What is the role of interaction terms in Multiple Linear Regression?\n",
        "\n",
        "  Interaction terms in multiple linear regression capture situations where the effect of one independent variable on the dependent variable depends on the level of another independent variable. To model non-additive relationships between variables — when the combined effect of two predictors is not simply the sum of their individual effects.\n",
        "\n",
        "\n",
        "\n",
        "\n"
      ],
      "metadata": {
        "id": "wbJnKA2elNBt"
      }
    },
    {
      "cell_type": "markdown",
      "source": [
        "15- How can the interpretation of intercept differ between Simple and Multiple Linear Regression?\n",
        "\n",
        "  The intercept represents the expected value of the dependent variable\n",
        "𝑌\n",
        "Y when all independent variables are zero. While the mathematical meaning is the same in both simple and multiple linear regression, the practical interpretation can differ significantly.\n",
        " the intercept often has a clearer meaning — the value of\n",
        "𝑌\n",
        "Y when\n",
        "𝑋\n",
        "=\n",
        "0\n",
        "X=0. In multiple linear regression, it represents the value of\n",
        "𝑌\n",
        "Y when all predictors are zero, which is rarely meaningful, but still mathematically necessary.\n"
      ],
      "metadata": {
        "id": "Ip8k66vDlpTf"
      }
    },
    {
      "cell_type": "markdown",
      "source": [
        "16- What is the significance of the slope in regression analysis, and how does it affect predictions?\n",
        "\n",
        " In regression analysis, the slope (also called the regression coefficient, typically denoted\n",
        "𝛽\n",
        "1\n",
        "β\n",
        "1\n",
        "​\n",
        " ,\n",
        "𝛽\n",
        "2\n",
        "β\n",
        "2\n",
        "​\n",
        " , etc.) plays a critical role in understanding how the independent variable(s) affect the dependent variable.\n",
        "\n",
        "β\n",
        "1\n",
        "​\n",
        "  is the slope, representing the rate of change in\n",
        "𝑌\n",
        "Y for a one-unit increase in\n",
        "𝑋\n",
        "X.\n",
        "\n",
        "It tells you the direction and strength of the relationship between\n",
        "𝑋\n",
        "X and\n",
        "𝑌\n",
        "Y.\n",
        "\n",
        "\n"
      ],
      "metadata": {
        "id": "54-dqw8fmYe4"
      }
    },
    {
      "cell_type": "markdown",
      "source": [
        "17- How does the intercept in a regression model provide context for the relationship between variables?\n",
        "\n",
        "  The intercept in a regression model represents the predicted value of the dependent variable\n",
        "𝑌\n",
        "Y when all independent variables\n",
        "𝑋\n",
        "𝑖\n",
        "X\n",
        "i\n",
        "​\n",
        "  are equal to zero.\n",
        "The intercept provides context by representing the expected value of the outcome when all predictors are zero. It serves as a baseline for the relationship between variables, helping interpret how much each independent variable changes the predicted outcome from that starting point.\n",
        "\n",
        "\n",
        "\n"
      ],
      "metadata": {
        "id": "JHY1AHbYm8-d"
      }
    },
    {
      "cell_type": "markdown",
      "source": [
        "18- What are the limitations of using R² as a sole measure of model performance?\n",
        "\n",
        "  A high\n",
        "𝑅\n",
        "2\n",
        "R\n",
        "2\n",
        "  doesn't mean that X causes Y.\n",
        "\n",
        "It only shows association, not cause-effect relationships .\n",
        "\n",
        "In multiple regression, adding more variables (even if useless) always increases or keeps\n",
        "𝑅\n",
        "2\n",
        "R\n",
        "2\n",
        "  the same.\n",
        "\n",
        "This can lead to overfitting.\n"
      ],
      "metadata": {
        "id": "fMSpy_yhntjM"
      }
    },
    {
      "cell_type": "markdown",
      "source": [
        "19 - How would you interpret a large standard error for a regression coefficient ?\n",
        "\n",
        " A large standard error for a regression coefficient indicates low precision in the estimate of that coefficient. A large standard error suggests the coefficient is not precisely estimated.\n",
        "\n",
        "This means that repeated sampling would likely produce a wide range of different values for that coefficient.\n",
        "\n",
        "\n"
      ],
      "metadata": {
        "id": "KBgsuLmrokpV"
      }
    },
    {
      "cell_type": "markdown",
      "source": [
        "20- How can heteroscedasticity be identified in residual plots, and why is it important to address it ?\n",
        "\n",
        "  Heteroscedasticity means that the variance of residuals is not constant across all levels of the independent variable(s), which violates a key assumption of linear regression. If the residuals fan out (widen) or funnel in (narrow) as the fitted values increase → this suggests heteroscedasticity.\n"
      ],
      "metadata": {
        "id": "sCON0if1ocsY"
      }
    },
    {
      "cell_type": "markdown",
      "source": [
        "21- What does it mean if a Multiple Linear Regression model has a high R² but low adjusted R²?\n",
        "\n",
        " Multiple Linear Regression model has a high R² but low adjusted R², it usually means that some of the independent variables are not actually contributing to the model and may be adding noise rather than explanatory power. Review feature significance using p-values or confidence intervals. Consider removing irrelevant variables.\n"
      ],
      "metadata": {
        "id": "XU87wtYMpcWD"
      }
    },
    {
      "cell_type": "markdown",
      "source": [
        "22- Why is it important to scale variables in Multiple Linear Regression?\n",
        "\n",
        " Scaling variables in Multiple Linear Regression (MLR) is important, especially in certain situations, even though the basic linear regression model doesn’t strictly require it. If predictors are on very different scales (e.g., height in cm vs income in lakhs), their coefficients will be on different scales, making interpretation difficult.\n",
        "\n",
        "\n"
      ],
      "metadata": {
        "id": "n0eI3QcuD8Zv"
      }
    },
    {
      "cell_type": "markdown",
      "source": [
        "23- What is polynomial regression/\n",
        "\n",
        " Polynomial Regression is a type of regression analysis , the relationship between the independent variable\n",
        "𝑋\n",
        "X and the dependent variable\n",
        "𝑌\n",
        "Y is modeled as an nth-degree polynomial.\n",
        "\n",
        "It is a form of linear regression because it is still linear in the coefficients, even though it models non-linear relationships between\n",
        "𝑋\n",
        "X and\n",
        "𝑌\n",
        "Y.\n",
        "\n",
        "\n"
      ],
      "metadata": {
        "id": "ZTZ-KqOpEqAD"
      }
    },
    {
      "cell_type": "markdown",
      "source": [
        "24- How does polynomial regression differ from linear regression ?\n",
        "\n",
        " Polynomial Regression and Linear Regression are based on the same fundamental idea — fitting a model to predict a target variable — they differ in how they model the relationship between the independent and dependent variables.\n",
        "\n",
        " Linear Regression: straight line\n",
        "\n",
        "Polynomial Regression : U or ∩ shaped curve\n"
      ],
      "metadata": {
        "id": "9VkkAIqHFUM-"
      }
    },
    {
      "cell_type": "markdown",
      "source": [
        "25- When is polynomial regression used?\n",
        "\n",
        " Polynomial regression is used when the relationship between the independent variable(s) and the dependent variable is non-linear .\n",
        "\n",
        " The data clearly shows a non-linear trend ,\n",
        "You want a better fit than a straight line provides\t,\n",
        "You're modeling physical or natural processes .\n"
      ],
      "metadata": {
        "id": "8TD-COQ_GVXG"
      }
    },
    {
      "cell_type": "markdown",
      "source": [
        "26- What is the general equation for polynomial regression ?\n",
        "\n",
        " The general equation for a Polynomial Regression model of degree\n",
        "𝑛\n",
        "n is -\n",
        "\n",
        "Y=β\n",
        "0\n",
        "​\n",
        " +β\n",
        "1\n",
        "​\n",
        " X+β\n",
        "2\n",
        "​\n",
        " X\n",
        "2\n",
        " +β\n",
        "3\n",
        "​\n",
        " X\n",
        "3\n",
        " +⋯+β\n",
        "n\n",
        "​\n",
        " X\n",
        "n\n",
        " +ε\n",
        "\n",
        " Y: Dependent variable\n",
        "\n",
        "𝑋\n",
        "X: Independent variable\n",
        "\n"
      ],
      "metadata": {
        "id": "XMjvRuJwHwE1"
      }
    },
    {
      "cell_type": "markdown",
      "source": [
        "27- Can polynomial regression be applied to multiple variables?\n",
        "\n",
        "Yes, Polynomial Regression can be applied to multiple variables.\n",
        "This is known as Multivariate Polynomial Regression or Polynomial Regression with multiple features.\n",
        "\n",
        "Polynomial regression with multiple variables captures non-linear effects and interactions between predictors. The model is still linear in coefficients, so it uses the same optimization as linear regression.\n",
        "\n",
        "\n",
        "\n",
        "\n"
      ],
      "metadata": {
        "id": "38TanHYsJiJz"
      }
    },
    {
      "cell_type": "markdown",
      "source": [
        "28- What are the limitations of polynomial regression?\n",
        "\n",
        " Overfitting\tFits noise  - instead of true signal .\n",
        "\n",
        "Poor extrapolation -\tPredicts wildly outside data range .\n",
        "\n",
        "Low interpretability- \tComplex coefficients hard to explain .\n",
        "\n",
        "Curse of dimensionality - Too many terms in multivariable case .\n",
        "\n",
        "Numerical instability\t - Due to large powers of X .\n",
        "\n"
      ],
      "metadata": {
        "id": "1WXSPqPnKOcC"
      }
    },
    {
      "cell_type": "markdown",
      "source": [
        "29- What methods can be used to evaluate model fit when selecting the degree of a polynomial?\n",
        "\n",
        "Ross-Validation\t for Generalization check\tValidation error is minimized .\n",
        "\n",
        "Validation Error for Detect overfitting\tValidation error starts increasing .\n",
        "\n",
        "Adjusted R² for Penalize complexity\tAdjusted R² peaks .\n",
        "\n",
        "AIC / BIC\tBalance for  fit vs complexity\tAIC/BIC is lowest .\n"
      ],
      "metadata": {
        "id": "lk0sGAFBLCiz"
      }
    },
    {
      "cell_type": "markdown",
      "source": [
        "30- Why is visualization important in polynomial regression?\n",
        "\n",
        " Visualization plays a critical role in polynomial regression — both in building the model and interpreting the results.\n",
        "\n",
        " Detect non-linearity\t- Identify if polynomial modeling is appropriate\n",
        "\n",
        "Select optimal degree\t- See overfitting or underfitting visually\n",
        "\n",
        "Understand model behavior -\tInterpret complex interactions and curve shapes\n",
        "\n"
      ],
      "metadata": {
        "id": "eB6Mw-LRMqjh"
      }
    },
    {
      "cell_type": "markdown",
      "source": [
        "31- How is polynomial regression implemented in Python?\n",
        "\n",
        " Polynomial regression in Python is typically implemented using scikit-learn by combining -\n",
        "\n",
        "PolynomialFeatures – to create polynomial and interaction terms\n",
        "\n",
        "LinearRegression – to fit a linear model on those expanded features\n",
        "\n",
        "You can change degree to see how the model behaves for different polynomial degrees .\n",
        "\n",
        "You can also use cross_val_score or other evaluation metrics to choose the best degree.\n",
        "\n"
      ],
      "metadata": {
        "id": "aAZvgoZqNbiB"
      }
    }
  ]
}